{
 "cells": [
  {
   "cell_type": "markdown",
   "metadata": {},
   "source": [
    "# Лабораторная 1\n",
    "\n",
    "\n"
   ]
  },
  {
   "cell_type": "markdown",
   "metadata": {},
   "source": [
    "Работать будем с функцией $f(x) = x^4+x^2+x+1$. Для начала построим ее график:"
   ]
  },
  {
   "cell_type": "code",
   "execution_count": 2,
   "metadata": {},
   "outputs": [
    {
     "data": {
      "image/png": "[encoded data removed]",
      "text/plain": [
       "<Figure size 432x288 with 1 Axes>"
      ]
     },
     "metadata": {
      "needs_background": "light"
     },
     "output_type": "display_data"
    }
   ],
   "source": [
    "import numpy as np\n",
    "from numpy import power as pow\n",
    "import matplotlib.pyplot as plt\n",
    "from random import uniform as uni\n",
    "\n",
    "def myfunc(x):\n",
    "    return pow(x, 4) + pow(x, 2) + x + 1\n",
    "\n",
    "\n",
    "def myfunc_prime(x):\n",
    "    return 4 * pow(x, 3) + 2 * x + 1\n",
    "\n",
    "\n",
    "def myfunc_second(x):\n",
    "    return 12 * pow(x, 2) + 2\n",
    "\n",
    "def plot(x, y, label_x=\"\", label_y=\"\", title=\"\"):\n",
    "    plt.plot(x, y)\n",
    "    plt.grid(True)\n",
    "    plt.xlabel(label_x)\n",
    "    plt.ylabel(label_y)\n",
    "    plt.title(title)\n",
    "    plt.show()\n",
    "\n",
    "a = -1\n",
    "b = 0\n",
    "e = 0.001\n",
    "\n",
    "x = np.arange(a, b, e)\n",
    "y = myfunc(x)\n",
    "\n",
    "plot(x, y, title = \"x^4 + x^2 + x + 1\")"
   ]
  },
  {
   "cell_type": "markdown",
   "metadata": {},
   "source": [
    "### Задание 1,2\n",
    "\n",
    "**Метод перебора**"
   ]
  },
  {
   "cell_type": "code",
   "execution_count": 29,
   "metadata": {},
   "outputs": [
    {
     "name": "stdout",
     "output_type": "stream",
     "text": [
      "x_opt = -0.385000\n",
      "i = 1000\n",
      "77.9 µs ± 3.14 µs per loop (mean ± std. dev. of 7 runs, 10000 loops each)\n"
     ]
    }
   ],
   "source": [
    "def brute(fun, a, b, e):\n",
    "    x = np.arange(a, b, e)\n",
    "    return x[np.argmin(fun(x))], x.size\n",
    "\n",
    "print(\"x_opt = %f\\ni = %d\" % brute(myfunc, a, b, e))\n",
    "\n",
    "%timeit brute(myfunc, a, b, e)"
   ]
  },
  {
   "cell_type": "markdown",
   "metadata": {},
   "source": [
    "**Метод порязрядного поиска**"
   ]
  },
  {
   "cell_type": "code",
   "execution_count": 31,
   "metadata": {},
   "outputs": [
    {
     "name": "stdout",
     "output_type": "stream",
     "text": [
      "x_opt = -0.375000\n",
      "i = 13\n",
      "90.8 µs ± 3.8 µs per loop (mean ± std. dev. of 7 runs, 10000 loops each)\n"
     ]
    }
   ],
   "source": [
    "n = 4\n",
    "\n",
    "def bitwise_search(fun, a, b, e, n, n_):\n",
    "    d = (b - a) / n\n",
    "    x0 = a\n",
    "    i = 0\n",
    "    for _ in range(0, n_):\n",
    "        f0 = fun(x0)\n",
    "        x1 = x0 + d\n",
    "        f1 = fun(x1)\n",
    "        if f0 > f1:\n",
    "            x0 += d\n",
    "            if (x0 > b):\n",
    "                raise Exception(\"Most likely your function is not unimodal\")\n",
    "        else:\n",
    "            a = x1 - 2 * d\n",
    "            b = x1\n",
    "            d /= n\n",
    "            x0 = a\n",
    "        i += 1\n",
    "        if np.abs(f0 - f1) < e:\n",
    "            break\n",
    "    x_opt = (a + b) / 2\n",
    "    return x_opt, i\n",
    "\n",
    "print(\"x_opt = %f\\ni = %d\" % bitwise_search(myfunc, -1, 0, 0.001, 4, 20))\n",
    "\n",
    "%timeit bitwise_search(myfunc, -1, 0, 0.001, 4, 20)"
   ]
  },
  {
   "cell_type": "markdown",
   "metadata": {},
   "source": [
    "**Модель дихотомии**"
   ]
  },
  {
   "cell_type": "code",
   "execution_count": 34,
   "metadata": {},
   "outputs": [
    {
     "name": "stdout",
     "output_type": "stream",
     "text": [
      "x_opt = -0.385742\n",
      "i = 4\n",
      "54.3 µs ± 3.58 µs per loop (mean ± std. dev. of 7 runs, 10000 loops each)\n"
     ]
    }
   ],
   "source": [
    "def bisection(fun_prime, a, b, e):\n",
    "    i = 0\n",
    "    c = (a + b) / 2\n",
    "    while (b - a) / 2 > e:\n",
    "        if fun_prime(c) == 0:\n",
    "            i += 1\n",
    "            return c, i\n",
    "        elif fun_prime(a) * fun_prime(c) < 0:\n",
    "            i += 1\n",
    "            b = c\n",
    "        else:\n",
    "            a = c\n",
    "        c = (a + b) / 2\n",
    "    return c, i\n",
    "\n",
    "\n",
    "print(\"x_opt = %f\\ni = %d\" % bisection(myfunc_prime, a, b, 0.001))\n",
    "\n",
    "%timeit bisection(myfunc_prime, a, b, 0.001)"
   ]
  },
  {
   "cell_type": "markdown",
   "metadata": {},
   "source": [
    "**Метод золотого сечения**"
   ]
  },
  {
   "cell_type": "code",
   "execution_count": 33,
   "metadata": {},
   "outputs": [
    {
     "name": "stdout",
     "output_type": "stream",
     "text": [
      "x_opt = -0.385438\n",
      "i = 6\n",
      "93.8 µs ± 2.28 µs per loop (mean ± std. dev. of 7 runs, 10000 loops each)\n"
     ]
    }
   ],
   "source": [
    "def gss(fun, a, b, e=0.001):\n",
    "    i = 0\n",
    "    gr = (np.sqrt(5) + 1) / 2  # equals 1.618....\n",
    "    c = b - (b - a) / gr\n",
    "    d = a + (b - a) / gr\n",
    "    while abs(c - d) > e:\n",
    "        if fun(c) < fun(d):\n",
    "            i += 1\n",
    "            b = d\n",
    "        else:\n",
    "            a = c\n",
    "        c = b - (b - a) / gr\n",
    "        d = a + (b - a) / gr\n",
    "    return (b + a) / 2, i\n",
    "\n",
    "print(\"x_opt = %f\\ni = %d\" % gss(myfunc, a, b, e=0.001))\n",
    "\n",
    "%timeit gss(myfunc, a, b, e=0.001)"
   ]
  },
  {
   "cell_type": "markdown",
   "metadata": {},
   "source": [
    "**Метод парабол**"
   ]
  },
  {
   "cell_type": "code",
   "execution_count": 15,
   "metadata": {},
   "outputs": [
    {
     "name": "stdout",
     "output_type": "stream",
     "text": [
      "x_opt = -0.384724\n",
      "i = 7\n",
      "57.8 µs ± 709 ns per loop (mean ± std. dev. of 7 runs, 10000 loops each)\n"
     ]
    }
   ],
   "source": [
    "def parabolic_select_helper(fun, a, b, n):\n",
    "    for _ in range(0, n):\n",
    "        x = sorted([uni(a, b) for _ in range(0, 3)])\n",
    "        if fun(x[0]) >= fun(x[1]) <= fun(x[2]):\n",
    "            return x\n",
    "    raise Exception(\"Most likely your function is not unimodal\")\n",
    "\n",
    "\n",
    "def parabolic_interp(fun, a, b, e, n):\n",
    "    x0, x1, x2 = parabolic_select_helper(fun, a, b, 100)\n",
    "    i = 0\n",
    "    f0 = fun(x0)\n",
    "    f1 = fun(x1)\n",
    "    f2 = fun(x2)\n",
    "\n",
    "    for _ in range(0, n):\n",
    "        a1 = (f1 - f0) / (x1 - x0)\n",
    "        a2 = (1 / (x2 - x1)) * (((f2 - f0) / (x2 - x0)) - ((f1 - f0) / (x1 - x0)))\n",
    "        if i == 0:\n",
    "            X = 0.5 * (x0 + x1 - a1 / a2)\n",
    "        else:\n",
    "            X2 = 0.5 * (x0 + x1 - a1 / a2)\n",
    "            if np.abs(X2 - X) < e:\n",
    "                i += 1\n",
    "                return X2, i\n",
    "            else:\n",
    "                X = X2\n",
    "        f_min = fun(X)\n",
    "        i += 1\n",
    "        if X < x2:\n",
    "            x2 = x1\n",
    "            f2 = f1\n",
    "            x1 = X\n",
    "            f1 = f_min\n",
    "        else:\n",
    "            x0 = x1\n",
    "            f0 = f1\n",
    "            x1 = X\n",
    "            f1 = f_min\n",
    "            \n",
    "print(\"x_opt = %f\\ni = %d\" % parabolic_interp(myfunc, a, b, e, 20))\n",
    "\n",
    "%timeit parabolic_interp(myfunc, a, b, e, 20)"
   ]
  },
  {
   "cell_type": "markdown",
   "metadata": {},
   "source": [
    "**Метод средней точки**"
   ]
  },
  {
   "cell_type": "code",
   "execution_count": 16,
   "metadata": {},
   "outputs": [
    {
     "name": "stdout",
     "output_type": "stream",
     "text": [
      "x_opt = -0.385548\n",
      "i = 6\n",
      "60.1 µs ± 1.73 µs per loop (mean ± std. dev. of 7 runs, 10000 loops each)\n"
     ]
    }
   ],
   "source": [
    "def middle_point(fun_prime, a, b, e, n):\n",
    "    i = 0\n",
    "    for _ in range(0, n):\n",
    "        i += 1\n",
    "        x = (a + b) / 2\n",
    "        f_p = fun_prime(x)\n",
    "        if np.abs(f_p) < e:\n",
    "            return x, i\n",
    "        else:\n",
    "            if f_p > 0:\n",
    "                b = x\n",
    "            else:\n",
    "                a = x\n",
    "\n",
    "print(\"x_opt = %f\\ni = %d\" % parabolic_interp(myfunc, a, b, e, 20))\n",
    "\n",
    "%timeit parabolic_interp(myfunc, a, b, e, 20)"
   ]
  },
  {
   "cell_type": "markdown",
   "metadata": {},
   "source": [
    "**Метод хорд**"
   ]
  },
  {
   "cell_type": "code",
   "execution_count": 21,
   "metadata": {},
   "outputs": [
    {
     "name": "stdout",
     "output_type": "stream",
     "text": [
      "x_opt = -0.385203\n",
      "i = 12\n",
      "145 µs ± 2.42 µs per loop (mean ± std. dev. of 7 runs, 10000 loops each)\n"
     ]
    }
   ],
   "source": [
    "def chords(fun_prime, a, b, e, n):\n",
    "    i = 0\n",
    "    for _ in range(0, n):\n",
    "        i += 1\n",
    "        X = a - (fun_prime(a) / (fun_prime(a) - fun_prime(b))) * (a - b)\n",
    "        f_p = fun_prime(X)\n",
    "        if np.abs(f_p) < e:\n",
    "            return X, i\n",
    "        else:\n",
    "            if f_p > 0:\n",
    "                b = X\n",
    "            else:\n",
    "                a = X\n",
    "\n",
    "print(\"x_opt = %f\\ni = %d\" % chords(myfunc_prime, a, b, e, 100))\n",
    "\n",
    "%timeit chords(myfunc_prime, a, b, e, 100)"
   ]
  },
  {
   "cell_type": "markdown",
   "metadata": {},
   "source": [
    "**Метод Ньтона**"
   ]
  },
  {
   "cell_type": "code",
   "execution_count": 25,
   "metadata": {},
   "outputs": [
    {
     "name": "stdout",
     "output_type": "stream",
     "text": [
      "x_opt = -0.385714\n",
      "i = 3\n",
      "11.4 µs ± 129 ns per loop (mean ± std. dev. of 7 runs, 100000 loops each)\n"
     ]
    }
   ],
   "source": [
    "def newton(fun_prime, fun_second, x0, e, n):\n",
    "    x = x0\n",
    "    i = 0\n",
    "    for _ in range(0, n):\n",
    "        df = fun_prime(x)\n",
    "        ddf = fun_second(x)\n",
    "        i += 1\n",
    "        if np.abs(df) < e\n",
    "            i += 1\n",
    "            return x, i\n",
    "        else:\n",
    "            x = x - df / ddf\n",
    "        if np.abs(x) < e:\n",
    "            return None\n",
    "        \n",
    "print(\"x_opt = %f\\ni = %d\" % newton(myfunc_prime, myfunc_second, -0.4, e, 100))\n",
    "\n",
    "%timeit newton(myfunc_prime, myfunc_second, -0.4, e, 100)"
   ]
  },
  {
   "cell_type": "markdown",
   "metadata": {},
   "source": [
    "### Задание 3"
   ]
  },
  {
   "cell_type": "code",
   "execution_count": null,
   "metadata": {},
   "outputs": [],
   "source": []
  }
 ],
 "metadata": {
  "kernelspec": {
   "display_name": "Python 3",
   "language": "python",
   "name": "python3"
  },
  "language_info": {
   "codemirror_mode": {
    "name": "ipython",
    "version": 3
   },
   "file_extension": ".py",
   "mimetype": "text/x-python",
   "name": "python",
   "nbconvert_exporter": "python",
   "pygments_lexer": "ipython3",
   "version": "3.7.0"
  }
 },
 "nbformat": 4,
 "nbformat_minor": 2
}
